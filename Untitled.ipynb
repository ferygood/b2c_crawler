{
 "cells": [
  {
   "cell_type": "code",
   "execution_count": 2,
   "id": "bcbc6676-e584-4ee1-883e-90ecc7cb1076",
   "metadata": {},
   "outputs": [],
   "source": [
    "from bs4 import BeautifulSoup\n",
    "\n",
    "# convert string to html, such as html.parser\n",
    "# soup.title\n",
    "# soup.title.name 標籤名稱\n",
    "# soup.title.text 標籤內容\n",
    "# detail please look into BeautifulSoup documentation\n",
    "# find_all() 搭配 for 迴圈\n",
    "# class 可以有很多個，id 只能有一個\n",
    "\n",
    "\n",
    "\n",
    "\n",
    "\n"
   ]
  }
 ],
 "metadata": {
  "kernelspec": {
   "display_name": "Python 3",
   "language": "python",
   "name": "python3"
  },
  "language_info": {
   "codemirror_mode": {
    "name": "ipython",
    "version": 3
   },
   "file_extension": ".py",
   "mimetype": "text/x-python",
   "name": "python",
   "nbconvert_exporter": "python",
   "pygments_lexer": "ipython3",
   "version": "3.7.9"
  }
 },
 "nbformat": 4,
 "nbformat_minor": 5
}
